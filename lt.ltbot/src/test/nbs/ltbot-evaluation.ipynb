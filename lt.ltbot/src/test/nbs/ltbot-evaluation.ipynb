{
 "metadata": {
  "name": "",
  "signature": "sha256:5bcddda3a5e943889936c4daf25312de6356338495a05b3a39feed045ddc2c78"
 },
 "nbformat": 3,
 "nbformat_minor": 0,
 "worksheets": [
  {
   "cells": [
    {
     "cell_type": "code",
     "collapsed": false,
     "input": [
      "%pylab inline"
     ],
     "language": "python",
     "metadata": {},
     "outputs": [
      {
       "output_type": "stream",
       "stream": "stdout",
       "text": [
        "Populating the interactive namespace from numpy and matplotlib\n"
       ]
      },
      {
       "output_type": "stream",
       "stream": "stderr",
       "text": [
        "WARNING: pylab import has clobbered these variables: ['load', 'datetime', 'info', 'unique', 'rc', 'save']\n",
        "`%matplotlib` prevents importing * from pylab and numpy\n"
       ]
      }
     ],
     "prompt_number": 4
    },
    {
     "cell_type": "markdown",
     "metadata": {},
     "source": [
      "- focused: ~1TB data; ~400GB html\n",
      "- focused sentences: 49,642,285\n",
      "- focused ngrams (1-5): 3,589,782,965\n",
      "\n",
      "\n",
      "- non-focused: ~1TB data; ~700GB html\n",
      "- non-focused sentences: 190,623,576\n",
      "- non-focused ngrams (1-5): 10,813,167,232\n"
     ]
    },
    {
     "cell_type": "code",
     "collapsed": false,
     "input": [
      "import matplotlib.pyplot as plt\n",
      "from matplotlib import rc\n",
      "# #rc('font',**{'family':'sans-serif','sans-serif':['Helvetica'], 'size':16})\n",
      "# ## for Palatino and other serif fonts use:\n",
      "# #rc('font',**{'family':'serif','serif':['Palatino']})\n",
      "# #rc('font',**{'family':'sans-serif','serif':['Computer Modern Sans serif']})\n",
      "# rc('text', usetex=True)\n",
      "# rc('font', size=16)\n",
      "# rc('text', dvipnghack=True) # mac related\n",
      "import numpy as np\n",
      "from pandas import *\n",
      "import os\n",
      "print(os.getcwd())\n",
      "os.chdir('/Volumes/ExtendedHD/Users/stevo/Workspaces/lm/eval')\n",
      "print(os.getcwd())"
     ],
     "language": "python",
     "metadata": {},
     "outputs": [
      {
       "output_type": "stream",
       "stream": "stdout",
       "text": [
        "/Volumes/ExtendedHD/Users/stevo/Workspaces/lm/eval\n",
        "/Volumes/ExtendedHD/Users/stevo/Workspaces/lm/eval\n"
       ]
      }
     ],
     "prompt_number": 5
    },
    {
     "cell_type": "code",
     "collapsed": false,
     "input": [],
     "language": "python",
     "metadata": {},
     "outputs": [],
     "prompt_number": 2
    },
    {
     "cell_type": "raw",
     "metadata": {},
     "source": [
      "# produce linear splitted plot\n",
      "#f_eval = '/Volumes/ExtendedHD/Users/stevo/Workspaces/lm/eval/2015-01-15/lm_eval_out_1000.txt'\n",
      "f_eval = '/Volumes/ExtendedHD/Users/stevo/Workspaces/lm/eval/2015-01-15/lm_eval_out.txt'\n",
      "df = read_csv(f_eval, \n",
      "              sep='\\t',\n",
      "              header=None, \n",
      "              names=['serviceid', 'file', 'perplexity'])\n",
      "df['split'] = df['serviceid'].map(lambda x: int(x[x.find('_')+1]))\n",
      "df['type'] = df['serviceid'].map(lambda x: x[x.rfind('/')+1:x.find('_')])\n",
      "df_r = df.pivot('split','type','perplexity')\n",
      "df_r.plot()\n",
      "plt.ylabel('Perplexity')\n",
      "df_r"
     ]
    },
    {
     "cell_type": "raw",
     "metadata": {},
     "source": [
      "# produce log splitted plot\n",
      "f_eval_woov = '/Volumes/ExtendedHD/Users/stevo/Workspaces/lm/eval/2015-01-29/lm_eval_out.woov.txt'\n",
      "f_eval_noov = '/Volumes/ExtendedHD/Users/stevo/Workspaces/lm/eval/2015-01-29/lm_eval_out.noov.txt'\n",
      "df_woov =      read_csv(f_eval_woov, \n",
      "              sep='\\t',\n",
      "              header=None, \n",
      "              names=['serviceid', 'file', 'perplexity'])\n",
      "df_noov = read_csv(f_eval_noov, \n",
      "              sep='\\t',\n",
      "              header=None, \n",
      "              names=['serviceid', 'file', 'perplexity'])\n",
      "\n",
      "df_woov['split'] = df_woov['serviceid'].map(lambda x: int(x[x.find('_')+1:].replace('M','KK').replace('K','000')))\n",
      "df_noov['split'] = df_noov['serviceid'].map(lambda x: int(x[x.find('_')+1:].replace('M','KK').replace('K','000')))\n",
      "\n",
      "df_woov['type'] = df_woov['serviceid'].map(lambda x: x[x.rfind('/')+1:x.find('_')])\n",
      "df_noov['type'] = df_noov['serviceid'].map(lambda x: x[x.rfind('/')+1:x.find('_')])\n",
      "\n",
      "df_r_woov = df_woov.pivot('split','type','perplexity')\n",
      "df_r_noov = df_noov.pivot('split','type','perplexity')\n",
      "print('type values: ', df_r_woov.columns.get_values())\n",
      "print('type values: ', df_r_noov.columns.get_values())\n",
      "\n",
      "fig, axes = plt.subplots(nrows=2, ncols=2)\n",
      "df_r_woov[['f2','nf2']].plot(ax=axes[0,0],logx=True,legend=False)\n",
      "df_r_woov[['f5','nf5']].plot(ax=axes[0,1],logx=True,legend=False)\n",
      "\n",
      "df_r_noov[['f2','nf2']].plot(ax=axes[1,0],logx=True,legend=False)\n",
      "df_r_noov[['f5','nf5']].plot(ax=axes[1,1],logx=True,legend=False)\n",
      "\n",
      "for ax in axes.flat: ax.legend(loc='upper right')\n"
     ]
    },
    {
     "cell_type": "raw",
     "metadata": {},
     "source": [
      "# compare to berkeley lm\n",
      "f_eval_noov = '/Volumes/ExtendedHD/Users/stevo/Workspaces/lm/eval/2015-01-29/test3.noov.txt'\n",
      "df_noov = read_csv(f_eval_noov, \n",
      "              sep='\\t',\n",
      "              header=None, \n",
      "              names=['serviceid', 'file', 'perplexity'])\n",
      "df_noov['ident'] = df_noov['serviceid'].map(lambda x: x[x.rfind('/')+1:])\n",
      "df_noov['size'] = df_noov['ident'].map(lambda x: (x, x.replace('_m1','')[x.find('_')+4:]))\n",
      "df_noov['type'] = df_noov['size'].map(lambda x: x[0].replace(x[1],''))\n",
      "df_noov['size'] = df_noov['size'].map(lambda x: int(x[1].replace('M','KK').replace('K','000')))\n",
      "df_noov = df_noov.pivot('size','type','perplexity')\n",
      "print('type values: ', df_noov.columns.get_values())\n",
      "#df_noov[['nf5_bkn_m1','nf5_pkn_m1']].plot(logx=True)\n",
      "\n",
      "df_noov[['f3_pkn','nf3_pkn','f5_pkn','nf5_pkn']].plot(logx=True)\n",
      "df_noov[['f3_pkn','nf3_pkn']].plot(logx=True)\n",
      "df_noov.plot(logx=True)\n",
      "df_noov\n"
     ]
    },
    {
     "cell_type": "raw",
     "metadata": {},
     "source": [
      "# compare to berkeley lm\n",
      "f_eval_woov = '/Volumes/ExtendedHD/Users/stevo/Workspaces/lm/eval/2015-01-29/test3.woov.txt'\n",
      "df_woov = read_csv(f_eval_woov, \n",
      "              sep='\\t',\n",
      "              header=None, \n",
      "              names=['serviceid', 'file', 'perplexity'])\n",
      "df_woov['ident'] = df_woov['serviceid'].map(lambda x: x[x.rfind('/')+1:])\n",
      "df_woov['size'] = df_woov['ident'].map(lambda x: (x, x.replace('_m1','')[x.find('_')+4:]))\n",
      "df_woov['type'] = df_woov['size'].map(lambda x: x[0].replace(x[1],''))\n",
      "df_woov['size'] = df_woov['size'].map(lambda x: int(x[1].replace('M','KK').replace('K','000')))\n",
      "df_woov = df_woov.pivot('size','type','perplexity')\n",
      "print('type values: ', df_woov.columns.get_values())\n",
      "#df_noov[['nf5_bkn_m1','nf5_pkn_m1']].plot(logx=True)\n",
      "\n",
      "df_woov[['f3_pkn','nf3_pkn','f5_pkn','nf5_pkn']].plot(logx=True)\n",
      "df_woov[['f3_pkn','nf3_pkn']].plot(logx=True)\n",
      "df_woov.plot(logx=True)\n",
      "df_woov\n"
     ]
    },
    {
     "cell_type": "code",
     "collapsed": false,
     "input": [
      "# plot perplexities\n",
      "\n",
      "# f_eval_woov = '/Volumes/ExtendedHD/Users/stevo/Workspaces/lm/eval/2015-02-26/lmeval_1K_sbound_oovref_woov.txt'\n",
      "# f_eval_noov = '/Volumes/ExtendedHD/Users/stevo/Workspaces/lm/eval/2015-02-26/lmeval_1K_sbound_oovref_noov.txt'\n",
      "\n",
      "f_eval_woov = '/Volumes/ExtendedHD/Users/stevo/Workspaces/lm/eval/2015-03-20/lmeval_1K_oovref_woov.txt'\n",
      "f_eval_noov = '/Volumes/ExtendedHD/Users/stevo/Workspaces/lm/eval/2015-03-20/lmeval_1K_oovref_noov.txt'\n",
      "\n",
      "# f_eval_woov = '/Volumes/ExtendedHD/Users/stevo/Workspaces/lm/eval/2015-02-26/lmeval_1K_de_oovref_woov.txt'\n",
      "# f_eval_noov = '/Volumes/ExtendedHD/Users/stevo/Workspaces/lm/eval/2015-02-26/lmeval_1K_de_oovref_noov.txt'\n",
      "\n",
      "# f_eval_woov = '/Volumes/ExtendedHD/Users/stevo/Workspaces/lm/eval/2015-03-20/lmeval_de_oovref_woov.txt'\n",
      "# f_eval_noov = '/Volumes/ExtendedHD/Users/stevo/Workspaces/lm/eval/2015-03-20/lmeval_de_oovref_noov.txt'\n",
      "\n",
      "f_eval_woov = '/Volumes/ExtendedHD/Users/stevo/Workspaces/lm/eval/2015-02-26/lmeval_1K_depc_oovref_woov.txt'\n",
      "f_eval_noov = '/Volumes/ExtendedHD/Users/stevo/Workspaces/lm/eval/2015-02-26/lmeval_1K_depc_oovref_noov.txt'\n",
      "\n",
      "\n",
      "\n",
      "df_woov = read_csv(f_eval_woov, \n",
      "              sep='\\t',\n",
      "              header=None, \n",
      "              names=['serviceid', 'file', 'perplexity'])\n",
      "df_noov = read_csv(f_eval_noov, \n",
      "              sep='\\t',\n",
      "              header=None, \n",
      "              names=['serviceid', 'file', 'perplexity'])\n",
      "\n",
      "df_woov['ident'] = df_woov['serviceid'].map(lambda x: x[x.rfind('/')+1:])\n",
      "df_woov['size'] = df_woov['ident'].map(lambda x: (x, x.replace('_m1s','').replace('_m1', '')[x.find('_')+1:]))\n",
      "df_woov['xtick'] = df_woov['size'].map(lambda x: x[1])\n",
      "df_woov['type'] = df_woov['size'].map(lambda x: x[0].replace('_'+x[1],'') + '_woov')\n",
      "df_woov['size'] = df_woov['size'].map(lambda x: int(x[1].replace('M','KK').replace('K','000')) + 1e7)# 1e5 amh, 1e7 pedocs\n",
      "dfp_woov = df_woov.pivot('size','type','perplexity')\n",
      "\n",
      "df_noov['ident'] = df_noov['serviceid'].map(lambda x: x[x.rfind('/')+1:])\n",
      "df_noov['size'] = df_noov['ident'].map(lambda x: (x, x.replace('_m1s', '').replace('_m1','')[x.find('_')+1:]))\n",
      "df_noov['xtick'] = df_noov['size'].map(lambda x: x[1])\n",
      "df_noov['type'] = df_noov['size'].map(lambda x: x[0].replace('_'+x[1],'') + '_noov')\n",
      "df_noov['size'] = df_noov['size'].map(lambda x: int(x[1].replace('M','KK').replace('K','000')) + 1e7)\n",
      "dfp_noov = df_noov.pivot('size','type','perplexity')\n",
      "\n",
      "d = dfp_woov.join(dfp_noov)\n",
      "print('type values: ', d.columns.get_values())\n",
      "\n",
      "d[['f5_m1_woov','nf5_m1_woov','f5_m1_noov','nf5_m1_noov']].plot(\n",
      "    logx=True, logy=False, legend=False, style=['bs:','ro-.', 'g+-', 'm>--'])\n",
      "\n",
      "plt.gca().legend(\n",
      "    loc='lower center', \n",
      "    labels=['$f (oov)$', '$nf (oov)$', '$f (no~oov)$', '$nf (no~oov)$'], \n",
      "    bbox_to_anchor=(0.5, 1), \n",
      "    ncol=2,\n",
      "    fontsize=16)\n",
      "plt.gca().set_ylabel('$PP$')\n",
      "plt.xticks(d.index, ['','','','$+1M$','','$+10M$','$+30M$','$+100M$','$+300M$'])\n",
      "plt.xlabel('$additional~corpus~size~in~\\#tokens$')\n",
      "plt.ylim((400,1000))\n",
      "print(d)\n",
      "\n",
      "# plt.savefig('/Volumes/ExtendedHD/Users/stevo/git/ltbotpaper/pp_edu.pdf', bbox_inches='tight')\n",
      "#plt.savefig('/Volumes/ExtendedHD/Users/stevo/git/ltbotpaper/pp_edu_dec.pdf', bbox_inches='tight')"
     ],
     "language": "python",
     "metadata": {},
     "outputs": [
      {
       "output_type": "stream",
       "stream": "stdout",
       "text": [
        "type values:  ['f5_m1_woov' 'nf5_m1_woov' 'f5_m1_noov' 'nf5_m1_noov']\n",
        "type       f5_m1_woov  nf5_m1_woov  f5_m1_noov  nf5_m1_noov\n",
        "size                                                       \n",
        "10000000        765.7        765.7       540.6        540.6\n",
        "10100000        764.0        764.7       539.5        540.0\n",
        "10300000        759.2        762.6       536.5        538.7\n",
        "11000000        749.3        759.0       529.5        536.0\n",
        "13000000        731.3        749.8       518.2        530.1\n",
        "20000000        704.0        724.8       500.6        514.3\n",
        "40000000        656.3        708.0       469.6        504.8\n",
        "110000000       619.1        693.7       445.2        496.0\n",
        "310000000       573.8        693.2       412.9        495.8"
       ]
      },
      {
       "output_type": "stream",
       "stream": "stdout",
       "text": [
        "\n"
       ]
      },
      {
       "metadata": {},
       "output_type": "display_data",
       "png": "[encoded data removed]",
       "text": [
        "<matplotlib.figure.Figure at 0x113dfa7f0>"
       ]
      }
     ],
     "prompt_number": 6
    },
    {
     "cell_type": "code",
     "collapsed": false,
     "input": [
      "# plot relative perplexity\n",
      "\n",
      "# intial value\n",
      "iv = d.iloc[0].loc['f5_m1_woov']\n",
      "d['nf5_m1_drop_woov'] = iv - d['nf5_m1_woov'];\n",
      "d['nf5_m1_rel_drop_woov'] = (-(d['nf5_m1_drop_woov'] / iv)) * 100;\n",
      "d['f5_m1_drop_woov'] = iv - d['f5_m1_woov'];\n",
      "d['f5_m1_rel_drop_woov'] = (-(d['f5_m1_drop_woov'] / iv)) * 100;\n",
      "\n",
      "iv = d.iloc[0].loc['f5_m1_noov']\n",
      "d['nf5_m1_drop_noov'] = iv - d['nf5_m1_noov'];\n",
      "d['nf5_m1_rel_drop_noov'] = (-(d['nf5_m1_drop_noov'] / iv)) * 100;\n",
      "d['f5_m1_drop_noov'] = iv - d['f5_m1_noov'];\n",
      "d['f5_m1_rel_drop_noov'] = (-(d['f5_m1_drop_noov'] / iv)) * 100;\n",
      "\n",
      "plt.figure()\n",
      "d[['f5_m1_rel_drop_woov','nf5_m1_rel_drop_woov','f5_m1_rel_drop_noov','nf5_m1_rel_drop_noov']].plot(\n",
      "    logx=True, logy=False, legend=False, style=['bs:','ro-.', 'g+-', 'm>--'])\n",
      "plt.gca().legend(loc='lower left', labels=['focused (oov)', 'non-focused (oov)', 'focused (no oov)', 'non-focused (no oov)'])\n",
      "plt.gca().set_ylabel('% PP change')\n",
      "plt.xticks(d.index, ['','','','+1M','','+10M','+30M','+100M','+300M'])\n",
      "#plt.ylim((-50,50))\n",
      "\n"
     ],
     "language": "python",
     "metadata": {},
     "outputs": []
    },
    {
     "cell_type": "code",
     "collapsed": false,
     "input": [],
     "language": "python",
     "metadata": {},
     "outputs": [
      {
       "metadata": {},
       "output_type": "pyout",
       "prompt_number": 19,
       "text": [
        "Float64Index([10000000.0, 10100000.0, 10300000.0, 11000000.0, 13000000.0, 20000000.0, 40000000.0, 110000000.0, 310000000.0], dtype='float64')"
       ]
      }
     ],
     "prompt_number": 19
    },
    {
     "cell_type": "code",
     "collapsed": false,
     "input": [
      "print(d.index)\n",
      "# /Volumes/ExtendedHD/Users/stevo/Workspaces/lm/eval/2015-02-26/lm_eval_de_pc_realsizes.txt\n",
      "# # f:\n",
      "# 11224     172870     100K_m1/sorted_sent_tok_de.txt\n",
      "# 5677962   93799389   100M_m1/sorted_sent_tok_de.txt\n",
      "# 560381    9122831    10M_m1/sorted_sent_tok_de.txt\n",
      "# 56609     867686     1M_m1/sorted_sent_tok_de.txt\n",
      "# 17083     267371     300K_m1/sorted_sent_tok_de.txt\n",
      "# 16819241  277303711  300M_m1/sorted_sent_tok_de.txt\n",
      "# 1661651   27783058   30M_m1/sorted_sent_tok_de.txt\n",
      "# 170488    2661758    3M_m1/sorted_sent_tok_de.txt\n",
      "\n",
      "# #\n",
      "# # nf:\n",
      "# 2498     34250     100K_m1/sorted_sent_tok_de.txt\n",
      "# 1840409  26817917  100M_m1/sorted_sent_tok_de.txt\n",
      "# 156302   2305689   10M_m1/sorted_sent_tok_de.txt\n",
      "# 15155    216432    1M_m1/sorted_sent_tok_de.txt\n",
      "# 6658     95167     300K_m1/sorted_sent_tok_de.txt\n",
      "# 4194850  61122895  300M_m1/sorted_sent_tok_de.txt\n",
      "# 647267   9452318   30M_m1/sorted_sent_tok_de.txt\n",
      "# 38012    557515    3M_m1/sorted_sent_tok_de.txt\n",
      "\n",
      "\n",
      "#d[['f5_m1_woov','nf5_m1_woov','f5_m1_noov','nf5_m1_noov']].plot(\n",
      "#    logx=True, logy=False, legend=False, style=['bs:','ro-.', 'g+-', 'm>--'])\n",
      "\n",
      "x_f =np.array([0, 87105, 267371, 867686, 2661758, 9122831, 27783058, 93799389, 277303711]) + 10000000\n",
      "x_nf=np.array([0, 34250, 95167, 216432, 557515, 2305689, 9452318, 26817917, 61122895]) + 10000000\n",
      "plt.plot(x_f.T,d[['f5_m1_woov']],'bs:')\n",
      "plt.plot(x_nf.T,d[['nf5_m1_woov']],'ro-.')\n",
      "plt.plot(x_f.T,d[['f5_m1_noov']],'g+-')\n",
      "plt.plot(x_nf.T,d[['nf5_m1_noov']],'m>--')\n",
      "#plt.plot(x_nf.T,m_nf,'ro-.')\n",
      "\n",
      "plt.gca().set_xscale('log')\n",
      "plt.grid(True)\n",
      "\n",
      "plt.gca().legend(\n",
      "    loc='lower center', \n",
      "    labels=['$f (oov)$', '$nf (oov)$', '$f (no~oov)$', '$nf (no~oov)$'], \n",
      "    bbox_to_anchor=(0.5, 1), \n",
      "    ncol=2,\n",
      "    fontsize=16)\n",
      "plt.gca().set_ylabel('$PP$')\n",
      "plt.xticks(d.index, ['','','','$+1M$','','$+10M$','$+30M$','$+100M$','$+300M$'])\n",
      "plt.xlabel('$additional~corpus~size~in~\\#tokens$')\n",
      "plt.xlim((0,310000000))\n",
      "plt.ylim((400,1000))\n",
      "#plt.savefig('/Volumes/ExtendedHD/Users/stevo/git/ltbotpaper/pp_edu_dec_realsize.pdf', bbox_inches='tight')\n"
     ],
     "language": "python",
     "metadata": {},
     "outputs": [
      {
       "output_type": "stream",
       "stream": "stdout",
       "text": [
        "Float64Index([10000000.0, 10100000.0, 10300000.0, 11000000.0, 13000000.0, 20000000.0, 40000000.0, 110000000.0, 310000000.0], dtype='float64')\n"
       ]
      },
      {
       "metadata": {},
       "output_type": "pyout",
       "prompt_number": 8,
       "text": [
        "(400, 1000)"
       ]
      },
      {
       "metadata": {},
       "output_type": "display_data",
       "png": "[encoded data removed]",
       "text": [
        "<matplotlib.figure.Figure at 0x11411fb70>"
       ]
      }
     ],
     "prompt_number": 8
    },
    {
     "cell_type": "code",
     "collapsed": false,
     "input": [],
     "language": "python",
     "metadata": {},
     "outputs": []
    }
   ],
   "metadata": {}
  }
 ]
}